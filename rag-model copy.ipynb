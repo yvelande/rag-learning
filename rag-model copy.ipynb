{
 "cells": [
  {
   "cell_type": "code",
   "execution_count": 1,
   "metadata": {},
   "outputs": [],
   "source": [
    "# import requests\n",
    "\n",
    "# url = \"https://zihao-code.obs.cn-east-3.myhuaweicloud.com/20230709-langchain/carbon.pdf\"\n",
    "# response = requests.get(url)\n",
    "\n",
    "# # 将文件保存为 'carbon.pdf'\n",
    "# with open(\"carbon.pdf\", \"wb\") as file:\n",
    "#     file.write(response.content)\n",
    "\n",
    "# print(\"File downloaded successfully!\")\n",
    "\n",
    "# url = \"https://zihao-code.obs.cn-east-3.myhuaweicloud.com/20230709-langchain/car.pdf\"\n",
    "# response = requests.get(url)\n",
    "\n",
    "# # 将文件保存为 'carbon.pdf'\n",
    "# with open(\"car.pdf\", \"wb\") as file:\n",
    "#     file.write(response.content)\n",
    "\n",
    "# print(\"File downloaded successfully!\")\n",
    "\n",
    "\n",
    "# from tensorflow import keras\n",
    "\n",
    "# !wget https://zihao-code.obs.cn-east-3.myhuaweicloud.com/20230709-langchain/carbon.pdf\n",
    "\n",
    "# !wget https://zihao-code.obs.cn-east-3.myhuaweicloud.com/20230709-langchain/car.pdf"
   ]
  },
  {
   "cell_type": "code",
   "execution_count": 2,
   "metadata": {},
   "outputs": [
    {
     "name": "stderr",
     "output_type": "stream",
     "text": [
      "Ignoring wrong pointing object 9 0 (offset 0)\n",
      "Ignoring wrong pointing object 11 0 (offset 0)\n",
      "Ignoring wrong pointing object 20 0 (offset 0)\n",
      "Ignoring wrong pointing object 22 0 (offset 0)\n",
      "Ignoring wrong pointing object 24 0 (offset 0)\n",
      "Ignoring wrong pointing object 26 0 (offset 0)\n",
      "Ignoring wrong pointing object 28 0 (offset 0)\n",
      "Ignoring wrong pointing object 42 0 (offset 0)\n",
      "Ignoring wrong pointing object 44 0 (offset 0)\n",
      "Ignoring wrong pointing object 50 0 (offset 0)\n",
      "Ignoring wrong pointing object 52 0 (offset 0)\n",
      "Ignoring wrong pointing object 54 0 (offset 0)\n",
      "Ignoring wrong pointing object 73 0 (offset 0)\n",
      "Ignoring wrong pointing object 87 0 (offset 0)\n",
      "Ignoring wrong pointing object 98 0 (offset 0)\n",
      "Ignoring wrong pointing object 167 0 (offset 0)\n",
      "Ignoring wrong pointing object 169 0 (offset 0)\n",
      "Ignoring wrong pointing object 183 0 (offset 0)\n",
      "Ignoring wrong pointing object 185 0 (offset 0)\n",
      "Ignoring wrong pointing object 255 0 (offset 0)\n",
      "Ignoring wrong pointing object 264 0 (offset 0)\n",
      "Ignoring wrong pointing object 282 0 (offset 0)\n",
      "Ignoring wrong pointing object 313 0 (offset 0)\n",
      "Ignoring wrong pointing object 325 0 (offset 0)\n",
      "Ignoring wrong pointing object 336 0 (offset 0)\n",
      "Ignoring wrong pointing object 361 0 (offset 0)\n",
      "Ignoring wrong pointing object 363 0 (offset 0)\n",
      "Ignoring wrong pointing object 479 0 (offset 0)\n",
      "Ignoring wrong pointing object 482 0 (offset 0)\n"
     ]
    }
   ],
   "source": [
    "# from langchain.document_loaders import UnstructuredFileLoader\n",
    "from langchain.document_loaders import PyPDFLoader\n",
    "\n",
    "loaders=[PyPDFLoader('carbon.pdf'),\n",
    "PyPDFLoader('car.pdf')\n",
    "]\n",
    "\n",
    "docs=[]\n",
    "for loader in loaders:\n",
    "    docs.extend(loader.load())\n"
   ]
  },
  {
   "cell_type": "code",
   "execution_count": 3,
   "metadata": {},
   "outputs": [
    {
     "data": {
      "text/plain": [
       "101"
      ]
     },
     "execution_count": 3,
     "metadata": {},
     "output_type": "execute_result"
    }
   ],
   "source": [
    "len(docs)"
   ]
  },
  {
   "cell_type": "code",
   "execution_count": 4,
   "metadata": {},
   "outputs": [
    {
     "data": {
      "text/plain": [
       "Document(page_content='联系我们\\n王尊\\n安永 -博智隆金融服务业战略合伙人\\n金融业战略与交易咨询服务\\n安永（中国）企业咨询有限公司\\njohn.wang@parthenon.ey.com\\n李菁\\n大中华区金融服务可持续发展服务合伙人\\nESG管理办公室主任\\n亚太区金融服务可持续发展主管\\n安永华明会计师事务所（特殊普通合伙）\\njudy-lj.li@cn.ey.com\\n陈牧\\n安永 -博智隆金融服务业战略总监\\n安永（中国）企业咨询有限公司\\nmu.chen@parthenon.ey. com\\n朱莹\\n金融服务气候变化与可持续发展服务高级经理\\n安永华明会计师事务所（特殊普通合伙）\\ncrystal -y.zhu@cn.ey.com\\n赵晓京\\n金融战略与交易咨询亚太区负责人\\n金融业战略与交易咨询服务\\n安永（中国）企业咨询有限公司\\njonathan.zhao@hk.ey.com忻怡\\n安永大中华区金融服务首席合伙人\\n亚太区金融科技与创新首席合伙人\\neffie.xin@cn.ey.com\\n王倩\\n安永 -博智隆金融服务业战略经理\\n安永（中国）企业咨询有限公司\\nkelly.q.wang@parthenon.ey.com\\n+86 137 7643 5389韩之鸿\\n安永 -博智隆金融服务业战略经理\\n安永（中国）企业咨询有限公司\\nhelen.zh.han@cn.ey.com\\n+86 13260257521\\n', metadata={'source': 'carbon.pdf', 'page': 50})"
      ]
     },
     "execution_count": 4,
     "metadata": {},
     "output_type": "execute_result"
    }
   ],
   "source": [
    "docs[50]"
   ]
  },
  {
   "cell_type": "code",
   "execution_count": 5,
   "metadata": {},
   "outputs": [
    {
     "name": "stderr",
     "output_type": "stream",
     "text": [
      "Created a chunk of size 376, which is longer than the specified 300\n",
      "Created a chunk of size 313, which is longer than the specified 300\n",
      "Created a chunk of size 371, which is longer than the specified 300\n",
      "Created a chunk of size 322, which is longer than the specified 300\n",
      "Created a chunk of size 363, which is longer than the specified 300\n",
      "Created a chunk of size 415, which is longer than the specified 300\n",
      "Created a chunk of size 339, which is longer than the specified 300\n",
      "Created a chunk of size 316, which is longer than the specified 300\n",
      "Created a chunk of size 341, which is longer than the specified 300\n",
      "Created a chunk of size 432, which is longer than the specified 300\n",
      "Created a chunk of size 553, which is longer than the specified 300\n",
      "Created a chunk of size 514, which is longer than the specified 300\n",
      "Created a chunk of size 371, which is longer than the specified 300\n",
      "Created a chunk of size 459, which is longer than the specified 300\n",
      "Created a chunk of size 310, which is longer than the specified 300\n",
      "Created a chunk of size 422, which is longer than the specified 300\n",
      "Created a chunk of size 321, which is longer than the specified 300\n",
      "Created a chunk of size 343, which is longer than the specified 300\n",
      "Created a chunk of size 412, which is longer than the specified 300\n",
      "Created a chunk of size 323, which is longer than the specified 300\n",
      "Created a chunk of size 384, which is longer than the specified 300\n",
      "Created a chunk of size 421, which is longer than the specified 300\n",
      "Created a chunk of size 318, which is longer than the specified 300\n",
      "Created a chunk of size 316, which is longer than the specified 300\n"
     ]
    }
   ],
   "source": [
    "from langchain.text_splitter import CharacterTextSplitter\n",
    "text_splitter=CharacterTextSplitter(chunk_size=300,chunk_overlap=30,separator='\\n')\n",
    "splits=text_splitter.split_documents(docs)\n"
   ]
  },
  {
   "cell_type": "code",
   "execution_count": 6,
   "metadata": {},
   "outputs": [
    {
     "data": {
      "text/plain": [
       "250"
      ]
     },
     "execution_count": 6,
     "metadata": {},
     "output_type": "execute_result"
    }
   ],
   "source": [
    "len(splits)"
   ]
  },
  {
   "cell_type": "code",
   "execution_count": 7,
   "metadata": {},
   "outputs": [
    {
     "data": {
      "text/plain": [
       "Document(page_content='的整体战略相结合\\n灵活且反应迅速\\n►过渡计划应定期更新，并应使用明\\n确的利益相关者反馈机制进行审查\\n►使用明确的利益相关者反馈机制进\\n行审查前瞻性\\n►过渡计划应包括短期和长期的目标\\n►短期目标（约 5年）是实现长期目\\n标的关键\\n完整性\\n►过渡计划应包括整个组织及其价值\\n链，特别是所有物质元素可信的过渡\\n计划的\\n组成部分\\n参考行业指导意见 CBI的经济活动分类\\n扶持性活动\\n它们生产的产\\n品和服务对于\\n使其他活动遵\\n循与巴黎相一\\n致的脱碳路径\\n至关重要净零：已经达到或接近净零排放的\\n活动\\n实现净零排放的途径： 2050年以后\\n需要的活动，并且有明确的 1.5℃的\\n减碳途径', metadata={'source': 'carbon.pdf', 'page': 36})"
      ]
     },
     "execution_count": 7,
     "metadata": {},
     "output_type": "execute_result"
    }
   ],
   "source": [
    "splits[100]"
   ]
  },
  {
   "cell_type": "code",
   "execution_count": 8,
   "metadata": {},
   "outputs": [
    {
     "name": "stderr",
     "output_type": "stream",
     "text": [
      "2024-10-14 20:16:24.992561: E external/local_xla/xla/stream_executor/cuda/cuda_fft.cc:485] Unable to register cuFFT factory: Attempting to register factory for plugin cuFFT when one has already been registered\n",
      "2024-10-14 20:16:25.047676: E external/local_xla/xla/stream_executor/cuda/cuda_dnn.cc:8454] Unable to register cuDNN factory: Attempting to register factory for plugin cuDNN when one has already been registered\n",
      "2024-10-14 20:16:25.058374: E external/local_xla/xla/stream_executor/cuda/cuda_blas.cc:1452] Unable to register cuBLAS factory: Attempting to register factory for plugin cuBLAS when one has already been registered\n",
      "2024-10-14 20:16:25.134390: I tensorflow/core/platform/cpu_feature_guard.cc:210] This TensorFlow binary is optimized to use available CPU instructions in performance-critical operations.\n",
      "To enable the following instructions: AVX2 FMA, in other operations, rebuild TensorFlow with the appropriate compiler flags.\n",
      "2024-10-14 20:16:26.759267: W tensorflow/compiler/tf2tensorrt/utils/py_utils.cc:38] TF-TRT Warning: Could not find TensorRT\n"
     ]
    },
    {
     "ename": "KeyboardInterrupt",
     "evalue": "",
     "output_type": "error",
     "traceback": [
      "\u001b[0;31m---------------------------------------------------------------------------\u001b[0m",
      "\u001b[0;31mKeyboardInterrupt\u001b[0m                         Traceback (most recent call last)",
      "Cell \u001b[0;32mIn[8], line 4\u001b[0m\n\u001b[1;32m      1\u001b[0m \u001b[38;5;28;01mfrom\u001b[39;00m \u001b[38;5;21;01mlangchain\u001b[39;00m\u001b[38;5;21;01m.\u001b[39;00m\u001b[38;5;21;01membeddings\u001b[39;00m \u001b[38;5;28;01mimport\u001b[39;00m HuggingFaceEmbeddings\n\u001b[1;32m      2\u001b[0m \u001b[38;5;66;03m# embeddings = HuggingFaceEmbeddings(model_name='shibing624/text2vec-base-chinese')\u001b[39;00m\n\u001b[1;32m      3\u001b[0m \u001b[38;5;66;03m# embeddings = HuggingFaceEmbeddings(model_name='GanymedeNil/text2vec-large-chinese')\u001b[39;00m\n\u001b[0;32m----> 4\u001b[0m embeddings \u001b[38;5;241m=\u001b[39m \u001b[43mHuggingFaceEmbeddings\u001b[49m\u001b[43m(\u001b[49m\u001b[43mmodel_name\u001b[49m\u001b[38;5;241;43m=\u001b[39;49m\u001b[38;5;124;43m'\u001b[39;49m\u001b[38;5;124;43mmoka-ai/m3e-base\u001b[39;49m\u001b[38;5;124;43m'\u001b[39;49m\u001b[43m)\u001b[49m\n\u001b[1;32m      6\u001b[0m \u001b[38;5;66;03m# 获取embedding算法\u001b[39;00m\n",
      "File \u001b[0;32m~/.local/lib/python3.10/site-packages/langchain/embeddings/huggingface.py:66\u001b[0m, in \u001b[0;36mHuggingFaceEmbeddings.__init__\u001b[0;34m(self, **kwargs)\u001b[0m\n\u001b[1;32m     60\u001b[0m \u001b[39mexcept\u001b[39;00m \u001b[39mImportError\u001b[39;00m \u001b[39mas\u001b[39;00m exc:\n\u001b[1;32m     61\u001b[0m     \u001b[39mraise\u001b[39;00m \u001b[39mImportError\u001b[39;00m(\n\u001b[1;32m     62\u001b[0m         \u001b[39m\"\u001b[39m\u001b[39mCould not import sentence_transformers python package. \u001b[39m\u001b[39m\"\u001b[39m\n\u001b[1;32m     63\u001b[0m         \u001b[39m\"\u001b[39m\u001b[39mPlease install it with `pip install sentence-transformers`.\u001b[39m\u001b[39m\"\u001b[39m\n\u001b[1;32m     64\u001b[0m     ) \u001b[39mfrom\u001b[39;00m \u001b[39mexc\u001b[39;00m\n\u001b[0;32m---> 66\u001b[0m \u001b[39mself\u001b[39m\u001b[39m.\u001b[39mclient \u001b[39m=\u001b[39m sentence_transformers\u001b[39m.\u001b[39;49mSentenceTransformer(\n\u001b[1;32m     67\u001b[0m     \u001b[39mself\u001b[39;49m\u001b[39m.\u001b[39;49mmodel_name, cache_folder\u001b[39m=\u001b[39;49m\u001b[39mself\u001b[39;49m\u001b[39m.\u001b[39;49mcache_folder, \u001b[39m*\u001b[39;49m\u001b[39m*\u001b[39;49m\u001b[39mself\u001b[39;49m\u001b[39m.\u001b[39;49mmodel_kwargs\n\u001b[1;32m     68\u001b[0m )\n",
      "File \u001b[0;32m~/.local/lib/python3.10/site-packages/sentence_transformers/SentenceTransformer.py:294\u001b[0m, in \u001b[0;36mSentenceTransformer.__init__\u001b[0;34m(self, model_name_or_path, modules, device, prompts, default_prompt_name, similarity_fn_name, cache_folder, trust_remote_code, revision, local_files_only, token, use_auth_token, truncate_dim, model_kwargs, tokenizer_kwargs, config_kwargs, model_card_data)\u001b[0m\n\u001b[1;32m    285\u001b[0m         model_name_or_path \u001b[39m=\u001b[39m __MODEL_HUB_ORGANIZATION__ \u001b[39m+\u001b[39m \u001b[39m\"\u001b[39m\u001b[39m/\u001b[39m\u001b[39m\"\u001b[39m \u001b[39m+\u001b[39m model_name_or_path\n\u001b[1;32m    287\u001b[0m \u001b[39mif\u001b[39;00m is_sentence_transformer_model(\n\u001b[1;32m    288\u001b[0m     model_name_or_path,\n\u001b[1;32m    289\u001b[0m     token,\n\u001b[0;32m   (...)\u001b[0m\n\u001b[1;32m    292\u001b[0m     local_files_only\u001b[39m=\u001b[39mlocal_files_only,\n\u001b[1;32m    293\u001b[0m ):\n\u001b[0;32m--> 294\u001b[0m     modules, \u001b[39mself\u001b[39m\u001b[39m.\u001b[39mmodule_kwargs \u001b[39m=\u001b[39m \u001b[39mself\u001b[39;49m\u001b[39m.\u001b[39;49m_load_sbert_model(\n\u001b[1;32m    295\u001b[0m         model_name_or_path,\n\u001b[1;32m    296\u001b[0m         token\u001b[39m=\u001b[39;49mtoken,\n\u001b[1;32m    297\u001b[0m         cache_folder\u001b[39m=\u001b[39;49mcache_folder,\n\u001b[1;32m    298\u001b[0m         revision\u001b[39m=\u001b[39;49mrevision,\n\u001b[1;32m    299\u001b[0m         trust_remote_code\u001b[39m=\u001b[39;49mtrust_remote_code,\n\u001b[1;32m    300\u001b[0m         local_files_only\u001b[39m=\u001b[39;49mlocal_files_only,\n\u001b[1;32m    301\u001b[0m         model_kwargs\u001b[39m=\u001b[39;49mmodel_kwargs,\n\u001b[1;32m    302\u001b[0m         tokenizer_kwargs\u001b[39m=\u001b[39;49mtokenizer_kwargs,\n\u001b[1;32m    303\u001b[0m         config_kwargs\u001b[39m=\u001b[39;49mconfig_kwargs,\n\u001b[1;32m    304\u001b[0m     )\n\u001b[1;32m    305\u001b[0m \u001b[39melse\u001b[39;00m:\n\u001b[1;32m    306\u001b[0m     modules \u001b[39m=\u001b[39m \u001b[39mself\u001b[39m\u001b[39m.\u001b[39m_load_auto_model(\n\u001b[1;32m    307\u001b[0m         model_name_or_path,\n\u001b[1;32m    308\u001b[0m         token\u001b[39m=\u001b[39mtoken,\n\u001b[0;32m   (...)\u001b[0m\n\u001b[1;32m    315\u001b[0m         config_kwargs\u001b[39m=\u001b[39mconfig_kwargs,\n\u001b[1;32m    316\u001b[0m     )\n",
      "File \u001b[0;32m~/.local/lib/python3.10/site-packages/sentence_transformers/SentenceTransformer.py:1674\u001b[0m, in \u001b[0;36mSentenceTransformer._load_sbert_model\u001b[0;34m(self, model_name_or_path, token, cache_folder, revision, trust_remote_code, local_files_only, model_kwargs, tokenizer_kwargs, config_kwargs)\u001b[0m\n\u001b[1;32m   1672\u001b[0m         \u001b[39mif\u001b[39;00m \u001b[39mlen\u001b[39m(revision_path_part) \u001b[39m==\u001b[39m \u001b[39m40\u001b[39m:\n\u001b[1;32m   1673\u001b[0m             revision \u001b[39m=\u001b[39m revision_path_part\n\u001b[0;32m-> 1674\u001b[0m \u001b[39mself\u001b[39;49m\u001b[39m.\u001b[39;49mmodel_card_data\u001b[39m.\u001b[39;49mset_base_model(model_name_or_path, revision\u001b[39m=\u001b[39;49mrevision)\n\u001b[1;32m   1675\u001b[0m \u001b[39mreturn\u001b[39;00m modules, module_kwargs\n",
      "File \u001b[0;32m~/.local/lib/python3.10/site-packages/sentence_transformers/model_card.py:711\u001b[0m, in \u001b[0;36mSentenceTransformerModelCardData.set_base_model\u001b[0;34m(self, model_id, revision)\u001b[0m\n\u001b[1;32m    709\u001b[0m \u001b[39mdef\u001b[39;00m \u001b[39mset_base_model\u001b[39m(\u001b[39mself\u001b[39m, model_id: \u001b[39mstr\u001b[39m, revision: \u001b[39mstr\u001b[39m \u001b[39m|\u001b[39m \u001b[39mNone\u001b[39;00m \u001b[39m=\u001b[39m \u001b[39mNone\u001b[39;00m) \u001b[39m-\u001b[39m\u001b[39m>\u001b[39m \u001b[39mNone\u001b[39;00m:\n\u001b[1;32m    710\u001b[0m     \u001b[39mtry\u001b[39;00m:\n\u001b[0;32m--> 711\u001b[0m         model_info \u001b[39m=\u001b[39m get_model_info(model_id)\n\u001b[1;32m    712\u001b[0m     \u001b[39mexcept\u001b[39;00m \u001b[39mException\u001b[39;00m:\n\u001b[1;32m    713\u001b[0m         \u001b[39m# Getting the model info can fail for many reasons: model does not exist, no internet, outage, etc.\u001b[39;00m\n\u001b[1;32m    714\u001b[0m         \u001b[39mreturn\u001b[39;00m \u001b[39mFalse\u001b[39;00m\n",
      "File \u001b[0;32m~/.local/lib/python3.10/site-packages/huggingface_hub/utils/_validators.py:114\u001b[0m, in \u001b[0;36mvalidate_hf_hub_args.<locals>._inner_fn\u001b[0;34m(*args, **kwargs)\u001b[0m\n\u001b[1;32m    111\u001b[0m \u001b[39mif\u001b[39;00m check_use_auth_token:\n\u001b[1;32m    112\u001b[0m     kwargs \u001b[39m=\u001b[39m smoothly_deprecate_use_auth_token(fn_name\u001b[39m=\u001b[39mfn\u001b[39m.\u001b[39m\u001b[39m__name__\u001b[39m, has_token\u001b[39m=\u001b[39mhas_token, kwargs\u001b[39m=\u001b[39mkwargs)\n\u001b[0;32m--> 114\u001b[0m \u001b[39mreturn\u001b[39;00m fn(\u001b[39m*\u001b[39;49margs, \u001b[39m*\u001b[39;49m\u001b[39m*\u001b[39;49mkwargs)\n",
      "File \u001b[0;32m~/.local/lib/python3.10/site-packages/huggingface_hub/hf_api.py:2466\u001b[0m, in \u001b[0;36mHfApi.model_info\u001b[0;34m(self, repo_id, revision, timeout, securityStatus, files_metadata, expand, token)\u001b[0m\n\u001b[1;32m   2464\u001b[0m \u001b[39mif\u001b[39;00m expand:\n\u001b[1;32m   2465\u001b[0m     params[\u001b[39m\"\u001b[39m\u001b[39mexpand\u001b[39m\u001b[39m\"\u001b[39m] \u001b[39m=\u001b[39m expand\n\u001b[0;32m-> 2466\u001b[0m r \u001b[39m=\u001b[39m get_session()\u001b[39m.\u001b[39;49mget(path, headers\u001b[39m=\u001b[39;49mheaders, timeout\u001b[39m=\u001b[39;49mtimeout, params\u001b[39m=\u001b[39;49mparams)\n\u001b[1;32m   2467\u001b[0m hf_raise_for_status(r)\n\u001b[1;32m   2468\u001b[0m data \u001b[39m=\u001b[39m r\u001b[39m.\u001b[39mjson()\n",
      "File \u001b[0;32m~/.local/lib/python3.10/site-packages/requests/sessions.py:602\u001b[0m, in \u001b[0;36mSession.get\u001b[0;34m(self, url, **kwargs)\u001b[0m\n\u001b[1;32m    594\u001b[0m \u001b[39m\u001b[39m\u001b[39mr\u001b[39m\u001b[39m\"\"\"Sends a GET request. Returns :class:`Response` object.\u001b[39;00m\n\u001b[1;32m    595\u001b[0m \n\u001b[1;32m    596\u001b[0m \u001b[39m:param url: URL for the new :class:`Request` object.\u001b[39;00m\n\u001b[1;32m    597\u001b[0m \u001b[39m:param \\*\\*kwargs: Optional arguments that ``request`` takes.\u001b[39;00m\n\u001b[1;32m    598\u001b[0m \u001b[39m:rtype: requests.Response\u001b[39;00m\n\u001b[1;32m    599\u001b[0m \u001b[39m\"\"\"\u001b[39;00m\n\u001b[1;32m    601\u001b[0m kwargs\u001b[39m.\u001b[39msetdefault(\u001b[39m\"\u001b[39m\u001b[39mallow_redirects\u001b[39m\u001b[39m\"\u001b[39m, \u001b[39mTrue\u001b[39;00m)\n\u001b[0;32m--> 602\u001b[0m \u001b[39mreturn\u001b[39;00m \u001b[39mself\u001b[39;49m\u001b[39m.\u001b[39;49mrequest(\u001b[39m\"\u001b[39;49m\u001b[39mGET\u001b[39;49m\u001b[39m\"\u001b[39;49m, url, \u001b[39m*\u001b[39;49m\u001b[39m*\u001b[39;49mkwargs)\n",
      "File \u001b[0;32m~/.local/lib/python3.10/site-packages/requests/sessions.py:589\u001b[0m, in \u001b[0;36mSession.request\u001b[0;34m(self, method, url, params, data, headers, cookies, files, auth, timeout, allow_redirects, proxies, hooks, stream, verify, cert, json)\u001b[0m\n\u001b[1;32m    584\u001b[0m send_kwargs \u001b[39m=\u001b[39m {\n\u001b[1;32m    585\u001b[0m     \u001b[39m\"\u001b[39m\u001b[39mtimeout\u001b[39m\u001b[39m\"\u001b[39m: timeout,\n\u001b[1;32m    586\u001b[0m     \u001b[39m\"\u001b[39m\u001b[39mallow_redirects\u001b[39m\u001b[39m\"\u001b[39m: allow_redirects,\n\u001b[1;32m    587\u001b[0m }\n\u001b[1;32m    588\u001b[0m send_kwargs\u001b[39m.\u001b[39mupdate(settings)\n\u001b[0;32m--> 589\u001b[0m resp \u001b[39m=\u001b[39m \u001b[39mself\u001b[39;49m\u001b[39m.\u001b[39;49msend(prep, \u001b[39m*\u001b[39;49m\u001b[39m*\u001b[39;49msend_kwargs)\n\u001b[1;32m    591\u001b[0m \u001b[39mreturn\u001b[39;00m resp\n",
      "File \u001b[0;32m~/.local/lib/python3.10/site-packages/requests/sessions.py:703\u001b[0m, in \u001b[0;36mSession.send\u001b[0;34m(self, request, **kwargs)\u001b[0m\n\u001b[1;32m    700\u001b[0m start \u001b[39m=\u001b[39m preferred_clock()\n\u001b[1;32m    702\u001b[0m \u001b[39m# Send the request\u001b[39;00m\n\u001b[0;32m--> 703\u001b[0m r \u001b[39m=\u001b[39m adapter\u001b[39m.\u001b[39;49msend(request, \u001b[39m*\u001b[39;49m\u001b[39m*\u001b[39;49mkwargs)\n\u001b[1;32m    705\u001b[0m \u001b[39m# Total elapsed time of the request (approximately)\u001b[39;00m\n\u001b[1;32m    706\u001b[0m elapsed \u001b[39m=\u001b[39m preferred_clock() \u001b[39m-\u001b[39m start\n",
      "File \u001b[0;32m~/.local/lib/python3.10/site-packages/huggingface_hub/utils/_http.py:93\u001b[0m, in \u001b[0;36mUniqueRequestIdAdapter.send\u001b[0;34m(self, request, *args, **kwargs)\u001b[0m\n\u001b[1;32m     91\u001b[0m \u001b[39m\u001b[39m\u001b[39m\"\"\"Catch any RequestException to append request id to the error message for debugging.\"\"\"\u001b[39;00m\n\u001b[1;32m     92\u001b[0m \u001b[39mtry\u001b[39;00m:\n\u001b[0;32m---> 93\u001b[0m     \u001b[39mreturn\u001b[39;00m \u001b[39msuper\u001b[39;49m()\u001b[39m.\u001b[39;49msend(request, \u001b[39m*\u001b[39;49margs, \u001b[39m*\u001b[39;49m\u001b[39m*\u001b[39;49mkwargs)\n\u001b[1;32m     94\u001b[0m \u001b[39mexcept\u001b[39;00m requests\u001b[39m.\u001b[39mRequestException \u001b[39mas\u001b[39;00m e:\n\u001b[1;32m     95\u001b[0m     request_id \u001b[39m=\u001b[39m request\u001b[39m.\u001b[39mheaders\u001b[39m.\u001b[39mget(X_AMZN_TRACE_ID)\n",
      "File \u001b[0;32m~/.local/lib/python3.10/site-packages/requests/adapters.py:667\u001b[0m, in \u001b[0;36mHTTPAdapter.send\u001b[0;34m(self, request, stream, timeout, verify, cert, proxies)\u001b[0m\n\u001b[1;32m    664\u001b[0m     timeout \u001b[39m=\u001b[39m TimeoutSauce(connect\u001b[39m=\u001b[39mtimeout, read\u001b[39m=\u001b[39mtimeout)\n\u001b[1;32m    666\u001b[0m \u001b[39mtry\u001b[39;00m:\n\u001b[0;32m--> 667\u001b[0m     resp \u001b[39m=\u001b[39m conn\u001b[39m.\u001b[39;49murlopen(\n\u001b[1;32m    668\u001b[0m         method\u001b[39m=\u001b[39;49mrequest\u001b[39m.\u001b[39;49mmethod,\n\u001b[1;32m    669\u001b[0m         url\u001b[39m=\u001b[39;49murl,\n\u001b[1;32m    670\u001b[0m         body\u001b[39m=\u001b[39;49mrequest\u001b[39m.\u001b[39;49mbody,\n\u001b[1;32m    671\u001b[0m         headers\u001b[39m=\u001b[39;49mrequest\u001b[39m.\u001b[39;49mheaders,\n\u001b[1;32m    672\u001b[0m         redirect\u001b[39m=\u001b[39;49m\u001b[39mFalse\u001b[39;49;00m,\n\u001b[1;32m    673\u001b[0m         assert_same_host\u001b[39m=\u001b[39;49m\u001b[39mFalse\u001b[39;49;00m,\n\u001b[1;32m    674\u001b[0m         preload_content\u001b[39m=\u001b[39;49m\u001b[39mFalse\u001b[39;49;00m,\n\u001b[1;32m    675\u001b[0m         decode_content\u001b[39m=\u001b[39;49m\u001b[39mFalse\u001b[39;49;00m,\n\u001b[1;32m    676\u001b[0m         retries\u001b[39m=\u001b[39;49m\u001b[39mself\u001b[39;49m\u001b[39m.\u001b[39;49mmax_retries,\n\u001b[1;32m    677\u001b[0m         timeout\u001b[39m=\u001b[39;49mtimeout,\n\u001b[1;32m    678\u001b[0m         chunked\u001b[39m=\u001b[39;49mchunked,\n\u001b[1;32m    679\u001b[0m     )\n\u001b[1;32m    681\u001b[0m \u001b[39mexcept\u001b[39;00m (ProtocolError, \u001b[39mOSError\u001b[39;00m) \u001b[39mas\u001b[39;00m err:\n\u001b[1;32m    682\u001b[0m     \u001b[39mraise\u001b[39;00m \u001b[39mConnectionError\u001b[39;00m(err, request\u001b[39m=\u001b[39mrequest)\n",
      "File \u001b[0;32m~/.local/lib/python3.10/site-packages/urllib3/connectionpool.py:789\u001b[0m, in \u001b[0;36mHTTPConnectionPool.urlopen\u001b[0;34m(self, method, url, body, headers, retries, redirect, assert_same_host, timeout, pool_timeout, release_conn, chunked, body_pos, preload_content, decode_content, **response_kw)\u001b[0m\n\u001b[1;32m    786\u001b[0m response_conn \u001b[39m=\u001b[39m conn \u001b[39mif\u001b[39;00m \u001b[39mnot\u001b[39;00m release_conn \u001b[39melse\u001b[39;00m \u001b[39mNone\u001b[39;00m\n\u001b[1;32m    788\u001b[0m \u001b[39m# Make the request on the HTTPConnection object\u001b[39;00m\n\u001b[0;32m--> 789\u001b[0m response \u001b[39m=\u001b[39m \u001b[39mself\u001b[39;49m\u001b[39m.\u001b[39;49m_make_request(\n\u001b[1;32m    790\u001b[0m     conn,\n\u001b[1;32m    791\u001b[0m     method,\n\u001b[1;32m    792\u001b[0m     url,\n\u001b[1;32m    793\u001b[0m     timeout\u001b[39m=\u001b[39;49mtimeout_obj,\n\u001b[1;32m    794\u001b[0m     body\u001b[39m=\u001b[39;49mbody,\n\u001b[1;32m    795\u001b[0m     headers\u001b[39m=\u001b[39;49mheaders,\n\u001b[1;32m    796\u001b[0m     chunked\u001b[39m=\u001b[39;49mchunked,\n\u001b[1;32m    797\u001b[0m     retries\u001b[39m=\u001b[39;49mretries,\n\u001b[1;32m    798\u001b[0m     response_conn\u001b[39m=\u001b[39;49mresponse_conn,\n\u001b[1;32m    799\u001b[0m     preload_content\u001b[39m=\u001b[39;49mpreload_content,\n\u001b[1;32m    800\u001b[0m     decode_content\u001b[39m=\u001b[39;49mdecode_content,\n\u001b[1;32m    801\u001b[0m     \u001b[39m*\u001b[39;49m\u001b[39m*\u001b[39;49mresponse_kw,\n\u001b[1;32m    802\u001b[0m )\n\u001b[1;32m    804\u001b[0m \u001b[39m# Everything went great!\u001b[39;00m\n\u001b[1;32m    805\u001b[0m clean_exit \u001b[39m=\u001b[39m \u001b[39mTrue\u001b[39;00m\n",
      "File \u001b[0;32m~/.local/lib/python3.10/site-packages/urllib3/connectionpool.py:466\u001b[0m, in \u001b[0;36mHTTPConnectionPool._make_request\u001b[0;34m(self, conn, method, url, body, headers, retries, timeout, chunked, response_conn, preload_content, decode_content, enforce_content_length)\u001b[0m\n\u001b[1;32m    463\u001b[0m \u001b[39mtry\u001b[39;00m:\n\u001b[1;32m    464\u001b[0m     \u001b[39m# Trigger any extra validation we need to do.\u001b[39;00m\n\u001b[1;32m    465\u001b[0m     \u001b[39mtry\u001b[39;00m:\n\u001b[0;32m--> 466\u001b[0m         \u001b[39mself\u001b[39;49m\u001b[39m.\u001b[39;49m_validate_conn(conn)\n\u001b[1;32m    467\u001b[0m     \u001b[39mexcept\u001b[39;00m (SocketTimeout, BaseSSLError) \u001b[39mas\u001b[39;00m e:\n\u001b[1;32m    468\u001b[0m         \u001b[39mself\u001b[39m\u001b[39m.\u001b[39m_raise_timeout(err\u001b[39m=\u001b[39me, url\u001b[39m=\u001b[39murl, timeout_value\u001b[39m=\u001b[39mconn\u001b[39m.\u001b[39mtimeout)\n",
      "File \u001b[0;32m~/.local/lib/python3.10/site-packages/urllib3/connectionpool.py:1095\u001b[0m, in \u001b[0;36mHTTPSConnectionPool._validate_conn\u001b[0;34m(self, conn)\u001b[0m\n\u001b[1;32m   1093\u001b[0m \u001b[39m# Force connect early to allow us to validate the connection.\u001b[39;00m\n\u001b[1;32m   1094\u001b[0m \u001b[39mif\u001b[39;00m conn\u001b[39m.\u001b[39mis_closed:\n\u001b[0;32m-> 1095\u001b[0m     conn\u001b[39m.\u001b[39;49mconnect()\n\u001b[1;32m   1097\u001b[0m \u001b[39m# TODO revise this, see https://github.com/urllib3/urllib3/issues/2791\u001b[39;00m\n\u001b[1;32m   1098\u001b[0m \u001b[39mif\u001b[39;00m \u001b[39mnot\u001b[39;00m conn\u001b[39m.\u001b[39mis_verified \u001b[39mand\u001b[39;00m \u001b[39mnot\u001b[39;00m conn\u001b[39m.\u001b[39mproxy_is_verified:\n",
      "File \u001b[0;32m~/.local/lib/python3.10/site-packages/urllib3/connection.py:693\u001b[0m, in \u001b[0;36mHTTPSConnection.connect\u001b[0;34m(self)\u001b[0m\n\u001b[1;32m    691\u001b[0m \u001b[39mtry\u001b[39;00m:\n\u001b[1;32m    692\u001b[0m     sock: socket\u001b[39m.\u001b[39msocket \u001b[39m|\u001b[39m ssl\u001b[39m.\u001b[39mSSLSocket\n\u001b[0;32m--> 693\u001b[0m     \u001b[39mself\u001b[39m\u001b[39m.\u001b[39msock \u001b[39m=\u001b[39m sock \u001b[39m=\u001b[39m \u001b[39mself\u001b[39;49m\u001b[39m.\u001b[39;49m_new_conn()\n\u001b[1;32m    694\u001b[0m     server_hostname: \u001b[39mstr\u001b[39m \u001b[39m=\u001b[39m \u001b[39mself\u001b[39m\u001b[39m.\u001b[39mhost\n\u001b[1;32m    695\u001b[0m     tls_in_tls \u001b[39m=\u001b[39m \u001b[39mFalse\u001b[39;00m\n",
      "File \u001b[0;32m~/.local/lib/python3.10/site-packages/urllib3/connection.py:199\u001b[0m, in \u001b[0;36mHTTPConnection._new_conn\u001b[0;34m(self)\u001b[0m\n\u001b[1;32m    194\u001b[0m \u001b[39m\u001b[39m\u001b[39m\"\"\"Establish a socket connection and set nodelay settings on it.\u001b[39;00m\n\u001b[1;32m    195\u001b[0m \n\u001b[1;32m    196\u001b[0m \u001b[39m:return: New socket connection.\u001b[39;00m\n\u001b[1;32m    197\u001b[0m \u001b[39m\"\"\"\u001b[39;00m\n\u001b[1;32m    198\u001b[0m \u001b[39mtry\u001b[39;00m:\n\u001b[0;32m--> 199\u001b[0m     sock \u001b[39m=\u001b[39m connection\u001b[39m.\u001b[39;49mcreate_connection(\n\u001b[1;32m    200\u001b[0m         (\u001b[39mself\u001b[39;49m\u001b[39m.\u001b[39;49m_dns_host, \u001b[39mself\u001b[39;49m\u001b[39m.\u001b[39;49mport),\n\u001b[1;32m    201\u001b[0m         \u001b[39mself\u001b[39;49m\u001b[39m.\u001b[39;49mtimeout,\n\u001b[1;32m    202\u001b[0m         source_address\u001b[39m=\u001b[39;49m\u001b[39mself\u001b[39;49m\u001b[39m.\u001b[39;49msource_address,\n\u001b[1;32m    203\u001b[0m         socket_options\u001b[39m=\u001b[39;49m\u001b[39mself\u001b[39;49m\u001b[39m.\u001b[39;49msocket_options,\n\u001b[1;32m    204\u001b[0m     )\n\u001b[1;32m    205\u001b[0m \u001b[39mexcept\u001b[39;00m socket\u001b[39m.\u001b[39mgaierror \u001b[39mas\u001b[39;00m e:\n\u001b[1;32m    206\u001b[0m     \u001b[39mraise\u001b[39;00m NameResolutionError(\u001b[39mself\u001b[39m\u001b[39m.\u001b[39mhost, \u001b[39mself\u001b[39m, e) \u001b[39mfrom\u001b[39;00m \u001b[39me\u001b[39;00m\n",
      "File \u001b[0;32m~/.local/lib/python3.10/site-packages/urllib3/util/connection.py:73\u001b[0m, in \u001b[0;36mcreate_connection\u001b[0;34m(address, timeout, source_address, socket_options)\u001b[0m\n\u001b[1;32m     71\u001b[0m \u001b[39mif\u001b[39;00m source_address:\n\u001b[1;32m     72\u001b[0m     sock\u001b[39m.\u001b[39mbind(source_address)\n\u001b[0;32m---> 73\u001b[0m sock\u001b[39m.\u001b[39;49mconnect(sa)\n\u001b[1;32m     74\u001b[0m \u001b[39m# Break explicitly a reference cycle\u001b[39;00m\n\u001b[1;32m     75\u001b[0m err \u001b[39m=\u001b[39m \u001b[39mNone\u001b[39;00m\n",
      "\u001b[0;31mKeyboardInterrupt\u001b[0m: "
     ]
    }
   ],
   "source": [
    "from langchain.embeddings import HuggingFaceEmbeddings\n",
    "# embeddings = HuggingFaceEmbeddings(model_name='shibing624/text2vec-base-chinese')\n",
    "# embeddings = HuggingFaceEmbeddings(model_name='GanymedeNil/text2vec-large-chinese')\n",
    "embeddings = HuggingFaceEmbeddings(model_name='moka-ai/m3e-base')\n",
    "\n",
    "# 获取embedding算法"
   ]
  },
  {
   "cell_type": "code",
   "execution_count": null,
   "metadata": {},
   "outputs": [],
   "source": [
    "from langchain.vectorstores import FAISS\n",
    "vector_store=FAISS.from_documents(splits,embeddings)\n",
    "# 获取每个chunk的embedding向量，建立文本-向量数据库"
   ]
  },
  {
   "cell_type": "code",
   "execution_count": null,
   "metadata": {},
   "outputs": [],
   "source": [
    "question = '政府发布了哪些双碳政策文件'\n",
    "K=5\n",
    "docs_and_scores=vector_store.similarity_search_with_score(question,k=K)"
   ]
  },
  {
   "cell_type": "code",
   "execution_count": null,
   "metadata": {},
   "outputs": [
    {
     "data": {
      "text/plain": [
       "[(Document(page_content='碳气候目标 ，占全球排放量的 83%4。\\n中国主动承担大国责任 ，提出 30·60“双碳”目标。中国作为全球第二大\\n经济体，始终高度关注气候变化对国家和社会的影响 。2020年9月第 75\\n届联合国大会上 ，习近平主席提出 “中国将努力在 2030年前实现碳达峰 ，\\n2060年前实现碳中和 ”的减排目标 ，即““双碳”目标”。为保障目标实现 ，\\n国务院先后发布 《关于完整准确全面贯彻新发展理念做好碳达峰碳中和\\n工作的意见 》和《2030年前碳达峰行动方案 》等纲领性文件 ，进一步\\n明确各阶段目标及实施方案', metadata={'source': 'carbon.pdf', 'page': 5}),\n",
       "  139.94669),\n",
       " (Document(page_content='行承诺\\n►部分双碳：自\\n身运营碳中和\\n承诺►清晰目标：通\\n过运营、产品\\n开发、创新科\\n技推进双碳工\\n作\\n►实施规划：规\\n划双碳路线图战略规划目标与\\n路线图双碳承诺\\n战\\n略\\n深\\n度\\n、\\n实\\n施\\n准\\n备\\n程\\n度低\\n高', metadata={'source': 'carbon.pdf', 'page': 13}),\n",
       "  143.98593),\n",
       " (Document(page_content='一系列减排举措 ，取得实质性减效果 ，直至实现国有保险集团 E成为\\n一家“碳中和”企业的目标 。\\n注12：某国有保险集团 E 2021可持续发展报告', metadata={'source': 'carbon.pdf', 'page': 21}),\n",
       "  144.3269),\n",
       " (Document(page_content='每项减排举措在每个部门的\\n工作流程\\n\\uf084评估每项工作流程\\n\\uf084编制发布碳中和政策及立场\\n实施计划的重要组成部分 减碳方案评估与决策矩阵\\n成\\n果\\n示\\n意', metadata={'source': 'carbon.pdf', 'page': 32}),\n",
       "  146.33456),\n",
       " (Document(page_content='注4：Energy & Climate Intelligence Unit : 净零排放跟踪表。 https://zerotracker.net/图2：中国”双碳”目标发展历程\\n双碳目标发展历程\\n第75届联合国大会2020年09月\\n习主席表示：“中国将提高国家\\n自主贡献力度，二氧化碳排放\\n力争于 2030年前达到峰值，努\\n力争取 2060年前实现碳中和 ”2020年11月\\n第三届巴黎和平论坛\\n习主席致辞表示：“中方将为\\n碳达峰，碳中和制定实施计划”2020年12月\\n习主席指出：“要抓紧制定\\n2030年前碳排放达峰行动方\\n案，加快调整优化产业结构和\\n能源结构 ”中央经济工作会议2021年03月', metadata={'source': 'carbon.pdf', 'page': 5}),\n",
       "  146.3746)]"
      ]
     },
     "execution_count": 11,
     "metadata": {},
     "output_type": "execute_result"
    }
   ],
   "source": [
    "docs_and_scores"
   ]
  },
  {
   "cell_type": "code",
   "execution_count": null,
   "metadata": {},
   "outputs": [
    {
     "name": "stdout",
     "output_type": "stream",
     "text": [
      "来源:carbon.pdf,字数：碳气候目标 ，占全球排放量的 83%4。\n",
      "中国主动承担大国责任 ，提出 30·60“双碳”目标。中国作为全球第二大\n",
      "经济体，始终高度关注气候变化对国家和社会的影响 。2020年9月第 75\n",
      "届联合国大会上 ，习近平主席提出 “中国将努力在 2030年前实现碳达峰 ，\n",
      "2060年前实现碳中和 ”的减排目标 ，即““双碳”目标”。为保障目标实现 ，\n",
      "国务院先后发布 《关于完整准确全面贯彻新发展理念做好碳达峰碳中和\n",
      "工作的意见 》和《2030年前碳达峰行动方案 》等纲领性文件 ，进一步\n",
      "明确各阶段目标及实施方案,匹配度：139.95\n",
      "碳气候目标 ，占全球排放量的 83%4。\n",
      "中国主动承担大国责.....\n",
      "----------\n",
      "来源:carbon.pdf,字数：行承诺\n",
      "►部分双碳：自\n",
      "身运营碳中和\n",
      "承诺►清晰目标：通\n",
      "过运营、产品\n",
      "开发、创新科\n",
      "技推进双碳工\n",
      "作\n",
      "►实施规划：规\n",
      "划双碳路线图战略规划目标与\n",
      "路线图双碳承诺\n",
      "战\n",
      "略\n",
      "深\n",
      "度\n",
      "、\n",
      "实\n",
      "施\n",
      "准\n",
      "备\n",
      "程\n",
      "度低\n",
      "高,匹配度：143.99\n",
      "行承诺\n",
      "►部分双碳：自\n",
      "身运营碳中和\n",
      "承诺►清晰目标：通\n",
      "过.....\n",
      "----------\n",
      "来源:carbon.pdf,字数：一系列减排举措 ，取得实质性减效果 ，直至实现国有保险集团 E成为\n",
      "一家“碳中和”企业的目标 。\n",
      "注12：某国有保险集团 E 2021可持续发展报告,匹配度：144.33\n",
      "一系列减排举措 ，取得实质性减效果 ，直至实现国有保险集团 .....\n",
      "----------\n",
      "来源:carbon.pdf,字数：每项减排举措在每个部门的\n",
      "工作流程\n",
      "评估每项工作流程\n",
      "编制发布碳中和政策及立场\n",
      "实施计划的重要组成部分 减碳方案评估与决策矩阵\n",
      "成\n",
      "果\n",
      "示\n",
      "意,匹配度：146.33\n",
      "每项减排举措在每个部门的\n",
      "工作流程\n",
      "评估每项工作流程\n",
      "编.....\n",
      "----------\n",
      "来源:carbon.pdf,字数：注4：Energy & Climate Intelligence Unit : 净零排放跟踪表。 https://zerotracker.net/图2：中国”双碳”目标发展历程\n",
      "双碳目标发展历程\n",
      "第75届联合国大会2020年09月\n",
      "习主席表示：“中国将提高国家\n",
      "自主贡献力度，二氧化碳排放\n",
      "力争于 2030年前达到峰值，努\n",
      "力争取 2060年前实现碳中和 ”2020年11月\n",
      "第三届巴黎和平论坛\n",
      "习主席致辞表示：“中方将为\n",
      "碳达峰，碳中和制定实施计划”2020年12月\n",
      "习主席指出：“要抓紧制定\n",
      "2030年前碳排放达峰行动方\n",
      "案，加快调整优化产业结构和\n",
      "能源结构 ”中央经济工作会议2021年03月,匹配度：146.37\n",
      "注4：Energy & Climate Intelligen.....\n",
      "----------\n"
     ]
    }
   ],
   "source": [
    "for i in range(len(docs_and_scores)):\n",
    "    source=docs_and_scores[i][0].metadata['source']\n",
    "    content=docs_and_scores[i][0].page_content\n",
    "    similarity=docs_and_scores[i][1]\n",
    "    print('来源:{},字数：{},匹配度：{:.2f}'.format(source,content,similarity))\n",
    "    print(content[:30]+\".....\")\n",
    "    print('----------')"
   ]
  },
  {
   "cell_type": "code",
   "execution_count": null,
   "metadata": {},
   "outputs": [
    {
     "name": "stdout",
     "output_type": "stream",
     "text": [
      "碳气候目标 ，占全球排放量的 83%4。\n",
      "中国主动承担大国责任 ，提出 30·60“双碳”目标。中国作为全球第二大\n",
      "经济体，始终高度关注气候变化对国家和社会的影响 。2020年9月第 75\n",
      "届联合国大会上 ，习近平主席提出 “中国将努力在 2030年前实现碳达峰 ，\n",
      "2060年前实现碳中和 ”的减排目标 ，即““双碳”目标”。为保障目标实现 ，\n",
      "国务院先后发布 《关于完整准确全面贯彻新发展理念做好碳达峰碳中和\n",
      "工作的意见 》和《2030年前碳达峰行动方案 》等纲领性文件 ，进一步\n",
      "明确各阶段目标及实施方案\n",
      "行承诺\n",
      "►部分双碳：自\n",
      "身运营碳中和\n",
      "承诺►清晰目标：通\n",
      "过运营、产品\n",
      "开发、创新科\n",
      "技推进双碳工\n",
      "作\n",
      "►实施规划：规\n",
      "划双碳路线图战略规划目标与\n",
      "路线图双碳承诺\n",
      "战\n",
      "略\n",
      "深\n",
      "度\n",
      "、\n",
      "实\n",
      "施\n",
      "准\n",
      "备\n",
      "程\n",
      "度低\n",
      "高\n",
      "一系列减排举措 ，取得实质性减效果 ，直至实现国有保险集团 E成为\n",
      "一家“碳中和”企业的目标 。\n",
      "注12：某国有保险集团 E 2021可持续发展报告\n",
      "每项减排举措在每个部门的\n",
      "工作流程\n",
      "评估每项工作流程\n",
      "编制发布碳中和政策及立场\n",
      "实施计划的重要组成部分 减碳方案评估与决策矩阵\n",
      "成\n",
      "果\n",
      "示\n",
      "意\n",
      "注4：Energy & Climate Intelligence Unit : 净零排放跟踪表。 https://zerotracker.net/图2：中国”双碳”目标发展历程\n",
      "双碳目标发展历程\n",
      "第75届联合国大会2020年09月\n",
      "习主席表示：“中国将提高国家\n",
      "自主贡献力度，二氧化碳排放\n",
      "力争于 2030年前达到峰值，努\n",
      "力争取 2060年前实现碳中和 ”2020年11月\n",
      "第三届巴黎和平论坛\n",
      "习主席致辞表示：“中方将为\n",
      "碳达峰，碳中和制定实施计划”2020年12月\n",
      "习主席指出：“要抓紧制定\n",
      "2030年前碳排放达峰行动方\n",
      "案，加快调整优化产业结构和\n",
      "能源结构 ”中央经济工作会议2021年03月\n",
      "\n"
     ]
    }
   ],
   "source": [
    "context=''\n",
    "for doc in docs_and_scores:\n",
    "    context+=doc[0].page_content\n",
    "    context+='\\n'\n",
    "\n",
    "print(context)"
   ]
  },
  {
   "cell_type": "code",
   "execution_count": null,
   "metadata": {},
   "outputs": [
    {
     "data": {
      "text/plain": [
       "901"
      ]
     },
     "execution_count": 14,
     "metadata": {},
     "output_type": "execute_result"
    }
   ],
   "source": [
    "prompt = '你是一个学习助手，请根据下面的已知信息回答问题，你只需要回答和已知信息相关的问题，如果问题和已知信息不相关，你可以直接回答\"不知道\" 问题：{} 已知信息:{}'.format(question, context)\n",
    "\n",
    "len(prompt)"
   ]
  },
  {
   "cell_type": "code",
   "execution_count": null,
   "metadata": {},
   "outputs": [
    {
     "name": "stdout",
     "output_type": "stream",
     "text": [
      "您好，我是由百度公司开发的人工智能语言模型，我的中文名是文心一言，英文名是ERNIE Bot。我存在的目的是帮助人们完成各种任务并提供有关各种主题的信息。希望未来能为您提供更多优质服务和帮助。\n"
     ]
    }
   ],
   "source": [
    "client_id:str=\"GSy340vOCzLsnz3QlAlzFx9M\"\n",
    "client_secret:str=\"ZUbFJSELqdmNAJVnn075O4fWmqqazsGN\"\n",
    "\n",
    "import json\n",
    "import requests\n",
    "class BaiduErnie:\n",
    "     host: str = \"https://aip.baidubce.com\"\n",
    "     client_id:str=\"\"\n",
    "     client_secret:str=\"\"\n",
    "     access_token:str=\"\"\n",
    "     def __init__(self,client_id:str,client_secret:str) -> None:\n",
    "          self.client_id=client_id\n",
    "          self.client_secret=client_secret\n",
    "          self.get_access_token()\n",
    "     def get_access_token(self) ->str:\n",
    "         url = \"https://aip.baidubce.com/oauth/2.0/token?grant_type=client_credentials&client_id={}&client_secret={}\".format(self.client_id, self.client_secret)\n",
    "         response = requests.post(url)\n",
    "         if response.status_code==200:\n",
    "            self.access_token=response.json()['access_token']\n",
    "            return self.access_token\n",
    "         else:\n",
    "            print(\"认证失败，错误代码:\", response.status_code)\n",
    "            raise Exception(\"获取access_token 失败\")\n",
    "     def chat(self,message:list)->tuple:\n",
    "        if not self.access_token:\n",
    "            self.get_access_token()\n",
    "        url = f\"{self.host}/rpc/2.0/ai_custom/v1/wenxinworkshop/chat/ernie_speed?access_token={self.access_token}\"\n",
    "        data={\"messages\":message}\n",
    "        response=requests.post(url,json=data)\n",
    "        if response.status_code==200:\n",
    "            return (response.json()[\"result\"],response.json())\n",
    "        else:\n",
    "            raise Exception(\"请求失败\")\n",
    "\n",
    "\n",
    "\n",
    "baidu_ernie = BaiduErnie(client_id, client_secret)\n",
    "def chat(prompt):\n",
    "    message=[]\n",
    "    message.append({\"role\":\"user\",\"content\":prompt})\n",
    "    result,response=baidu_ernie.chat(message)\n",
    "    return result\n",
    "result = chat('你是哪家公司开发的什么大语言模型？')\n",
    "print(result)"
   ]
  },
  {
   "cell_type": "code",
   "execution_count": null,
   "metadata": {},
   "outputs": [
    {
     "name": "stdout",
     "output_type": "stream",
     "text": [
      "根据您提供的信息，无法直接回答今天天气怎么样。天气情况受多种因素影响，包括地理位置、季节、气候变化等。您提供的信息主要涉及全球气候变化、人类活动对气候的影响以及应对气候变化的措施等方面。\n",
      "\n",
      "如果您需要了解今天的天气情况，可以使用天气预报应用程序或网站，这些工具可以提供详细的天气信息，包括温度、湿度、风速、降雨概率等。此外，您也可以关注当地的新闻或气象部门发布的信息，以获取最新的天气预报。\n"
     ]
    }
   ],
   "source": [
    "def predict(question):\n",
    "    docs_and_scores=vector_store.similarity_search_with_score(question,k=K)\n",
    "    context=\"\"\n",
    "    for doc in docs_and_scores:\n",
    "        context+=doc[0].page_content\n",
    "        context+='\\n'\n",
    "    prompt='你是一个学习助手，请根据下面的已知信息回答问题，你只需要回答和已知信息相关的问题，如果问题和已知信息不相关，你可以直接回答\"不知道\" 问题：{} 已知信息:{}'.format(question, context)\n",
    "    result=chat(prompt)\n",
    "    print(result)\n",
    "\n",
    "predict('告诉今天天气怎么样')"
   ]
  }
 ],
 "metadata": {
  "kernelspec": {
   "display_name": "Python 3.10.12 64-bit",
   "language": "python",
   "name": "python3"
  },
  "language_info": {
   "codemirror_mode": {
    "name": "ipython",
    "version": 3
   },
   "file_extension": ".py",
   "mimetype": "text/x-python",
   "name": "python",
   "nbconvert_exporter": "python",
   "pygments_lexer": "ipython3",
   "version": "3.10.12"
  },
  "orig_nbformat": 4,
  "vscode": {
   "interpreter": {
    "hash": "916dbcbb3f70747c44a77c7bcd40155683ae19c65e1c03b4aa3499c5328201f1"
   }
  }
 },
 "nbformat": 4,
 "nbformat_minor": 2
}
